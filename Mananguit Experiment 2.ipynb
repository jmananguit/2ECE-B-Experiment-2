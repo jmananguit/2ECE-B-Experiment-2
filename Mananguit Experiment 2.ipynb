{
 "cells": [
  {
   "cell_type": "code",
   "execution_count": 1,
   "id": "87dbb046-59b7-4026-a533-afcf3a8f402a",
   "metadata": {
    "scrolled": true
   },
   "outputs": [
    {
     "name": "stdout",
     "output_type": "stream",
     "text": [
      "[[ 0.16791916 -0.98121546  0.21408268  1.29815065  0.28890113]\n",
      " [ 0.95365796 -0.11780026  0.71147148  1.28817934 -0.32772647]\n",
      " [ 1.31279491  0.42075338  1.2842185  -1.33707917 -1.66995994]\n",
      " [-1.03164468 -1.8959627  -0.38270499  0.153238   -0.41278486]\n",
      " [ 1.01575641 -1.02162241  1.41636155 -0.00869136 -1.33829283]]\n"
     ]
    }
   ],
   "source": [
    "##Normalization Problem\n",
    "#Import numpy library to be able to use arrays\n",
    "import numpy as np\n",
    "#Create a placeholder 5x5 array\n",
    "X = np.random.random((5,5))\n",
    "#store the mean of array X to variable Y\n",
    "Y = X.mean()\n",
    "#store the standard deviation of array X to variable W\n",
    "W = X.std()\n",
    "#complete the normalization formula \n",
    "Z = (X-Y)/W\n",
    "print(Z)\n",
    "#save array Z using file name X_normalized'\n",
    "np.save('X_normalized', Z)\n"
   ]
  },
  {
   "cell_type": "code",
   "execution_count": 2,
   "id": "2a3474c1-d27c-4ec8-9b68-4ec8fef5e83c",
   "metadata": {},
   "outputs": [
    {
     "name": "stdout",
     "output_type": "stream",
     "text": [
      "[   9   36   81  144  225  324  441  576  729  900 1089 1296 1521 1764\n",
      " 2025 2304 2601 2916 3249 3600 3969 4356 4761 5184 5625 6084 6561 7056\n",
      " 7569 8100 8649 9216 9801]\n"
     ]
    }
   ],
   "source": [
    "##DIVISIBLE BY 3 PROBLEM\n",
    "#Import numpy library to be able to use arrays\n",
    "import numpy as np\n",
    "#Create a placeholder 5x5 array\n",
    "a = np.zeros((10,10))\n",
    "#create a for loop the creates a 10x10 array from 1 - 100\n",
    "i = 1\n",
    "for j in range(10):\n",
    "    for k in range(10):\n",
    "        a[j,k] = i\n",
    "        i += 1\n",
    "# squares the elements inside the array\n",
    "a = a**2\n",
    "# change the data type of the elements inside the array\n",
    "b = a.astype(int)\n",
    "#find all elements that are divisible by 3\n",
    "modulo = b%3==0\n",
    "#slices the only elements that are found 'True' by the modulo\n",
    "div_by_3 = b[modulo]\n",
    "print(div_by_3)\n",
    "#save array using file name 'div_by_3'\n",
    "np.save('div_by_3', div_by_3)"
   ]
  },
  {
   "cell_type": "code",
   "execution_count": null,
   "id": "2aa06eaa-67bc-494f-9da8-d2ecc006ea90",
   "metadata": {},
   "outputs": [],
   "source": []
  }
 ],
 "metadata": {
  "kernelspec": {
   "display_name": "Python 3 (ipykernel)",
   "language": "python",
   "name": "python3"
  },
  "language_info": {
   "codemirror_mode": {
    "name": "ipython",
    "version": 3
   },
   "file_extension": ".py",
   "mimetype": "text/x-python",
   "name": "python",
   "nbconvert_exporter": "python",
   "pygments_lexer": "ipython3",
   "version": "3.12.4"
  }
 },
 "nbformat": 4,
 "nbformat_minor": 5
}
