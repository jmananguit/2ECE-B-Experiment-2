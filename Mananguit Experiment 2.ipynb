{
 "cells": [
  {
   "cell_type": "markdown",
   "id": "d8f97f02-e693-4bc7-81bc-9c291429aed4",
   "metadata": {},
   "source": [
    "# Normalization Problem\n"
   ]
  },
  {
   "cell_type": "markdown",
   "id": "57a1d727-8a34-450c-a187-444a8181506f",
   "metadata": {},
   "source": [
    "#### This code normalizes a random 5x5 array element-wise using the normalization formula Z=(X - mean)/(std) and saves the normalized array.\n",
    "#### It also lets users decide the range from which the random numbers are taken from.\n",
    "##### Example Input:\n",
    "#####     Input Lower Range of Value: 1\n",
    "#####     Input Higher Range of Value: 10\n",
    "16]]"
   ]
  },
  {
   "cell_type": "code",
   "execution_count": 6,
   "id": "87dbb046-59b7-4026-a533-afcf3a8f402a",
   "metadata": {
    "scrolled": true
   },
   "outputs": [
    {
     "name": "stdout",
     "output_type": "stream",
     "text": [
      "This program lets the user input the range of integers that fills a 5x5 array randomly using the inputted range\n"
     ]
    },
    {
     "name": "stdin",
     "output_type": "stream",
     "text": [
      "Input Lower Range of Value:  1\n",
      "Input Higher Range of Value:  10\n"
     ]
    },
    {
     "name": "stdout",
     "output_type": "stream",
     "text": [
      "Random Array: \n",
      "[[3 6 8 6 1]\n",
      " [5 9 5 8 2]\n",
      " [3 5 6 7 1]\n",
      " [6 4 8 5 9]\n",
      " [9 5 1 5 7]]\n",
      "Mean:  5.36\n",
      "Standard Deviation: 2.447529366524537\n",
      "Normalized Array:\n",
      "[[-0.96423766  0.26148818  1.07863874  0.26148818 -1.78138823]\n",
      " [-0.1470871   1.48721402 -0.1470871   1.07863874 -1.37281295]\n",
      " [-0.96423766 -0.1470871   0.26148818  0.67006346 -1.78138823]\n",
      " [ 0.26148818 -0.55566238  1.07863874 -0.1470871   1.48721402]\n",
      " [ 1.48721402 -0.1470871  -1.78138823 -0.1470871   0.67006346]]\n"
     ]
    }
   ],
   "source": [
    "##Normalization Problem\n",
    "#Import numpy library to be able to use arrays\n",
    "import numpy as np\n",
    "#informs user about the function of the code\n",
    "print('This program lets the user input the range of integers that fills a 5x5 array randomly using the inputted range')\n",
    "#create a function which lets the user input the range of numbers where random integers fills the array\n",
    "def isint(val): \n",
    "    #create a loop that checks if user input is int\n",
    "    while True: #checks if the value inputed is an integer\n",
    "        try:  \n",
    "            a = int(input(val))\n",
    "            return a\n",
    "        except: #prompts the user that the inputed value is not an integer\n",
    "            print('Input Invalid Try Again!')\n",
    "#assign the user inputs into a varible and call the function isint\n",
    "i = isint('Input Lower Range of Value: ')\n",
    "j = isint('Input Higher Range of Value: ')\n",
    "#check if the lower range is less than higher range\n",
    "while i >= j:\n",
    "    print(\"The higher range must be greater than the lower range.\")\n",
    "    j = isint('Input Higher Range of Value: ')\n",
    "#creates a random 5x5 array based from the inputted ranges\n",
    "X = np.random.randint(i,j,(5,5))\n",
    "print ('Random Array: ')\n",
    "print (X)\n",
    "#store the mean of array X to variable Y and print the array\n",
    "Y = X.mean()\n",
    "print ('Mean: ',Y)\n",
    "#store the standard deviation of array X to variable W and print the value\n",
    "W = X.std()\n",
    "print ('Standard Deviation:', W)\n",
    "#complete the normalization formula and print the array\n",
    "Z = (X-Y)/W\n",
    "print('Normalized Array:')\n",
    "print(Z)\n",
    "#save array Z using file name X_normalized'\n",
    "np.save('X_normalized', Z)\n"
   ]
  },
  {
   "cell_type": "markdown",
   "id": "b342e297-205f-4c81-90a5-63858d4aecd7",
   "metadata": {},
   "source": [
    "# DIVISIBLE BY 3 PROBLEM\n",
    "#### This code creates a 10x10 array ranging from the squares of 1 to 100 and finds every element divisible by 3 and stores the resulting array\n",
    "##### Expected Output:\n",
    "##### [  9   36   81  144  225 ... n]"
   ]
  },
  {
   "cell_type": "code",
   "execution_count": 8,
   "id": "2a3474c1-d27c-4ec8-9b68-4ec8fef5e83c",
   "metadata": {},
   "outputs": [
    {
     "name": "stdout",
     "output_type": "stream",
     "text": [
      "This program creates a 10x10 array ranging from the squares of 1 to 100 and finds every element divisible by 3\n",
      "Original Array: \n",
      "[[    1     4     9    16    25    36    49    64    81   100]\n",
      " [  121   144   169   196   225   256   289   324   361   400]\n",
      " [  441   484   529   576   625   676   729   784   841   900]\n",
      " [  961  1024  1089  1156  1225  1296  1369  1444  1521  1600]\n",
      " [ 1681  1764  1849  1936  2025  2116  2209  2304  2401  2500]\n",
      " [ 2601  2704  2809  2916  3025  3136  3249  3364  3481  3600]\n",
      " [ 3721  3844  3969  4096  4225  4356  4489  4624  4761  4900]\n",
      " [ 5041  5184  5329  5476  5625  5776  5929  6084  6241  6400]\n",
      " [ 6561  6724  6889  7056  7225  7396  7569  7744  7921  8100]\n",
      " [ 8281  8464  8649  8836  9025  9216  9409  9604  9801 10000]]\n",
      "Elements Divisible by 3:\n",
      "[   9   36   81  144  225  324  441  576  729  900 1089 1296 1521 1764\n",
      " 2025 2304 2601 2916 3249 3600 3969 4356 4761 5184 5625 6084 6561 7056\n",
      " 7569 8100 8649 9216 9801]\n"
     ]
    }
   ],
   "source": [
    "##DIVISIBLE BY 3 PROBLEM\n",
    "#Import numpy library to be able to use arrays\n",
    "import numpy as np\n",
    "#Inform the user about the purpose of the program\n",
    "print('This program creates a 10x10 array ranging from the squares of 1 to 100 and finds every element divisible by 3')\n",
    "#Create a placeholder 5x5 array\n",
    "a = np.zeros((10,10))\n",
    "#create a for loop the creates a 10x10 array from 1 - 100\n",
    "i = 1\n",
    "for j in range(10):\n",
    "    for k in range(10):\n",
    "        a[j,k] = i\n",
    "        i += 1\n",
    "# squares the elements inside the array\n",
    "a = a**2\n",
    "# change the data type of the elements inside the array\n",
    "b = a.astype(int)\n",
    "print ('Original Array: ') \n",
    "print (b)\n",
    "#find all elements that are divisible by 3\n",
    "modulo = b%3==0\n",
    "#slices the only elements that are found 'True' by the modulo\n",
    "div_by_3 = b[modulo]\n",
    "print ('Elements Divisible by 3:')\n",
    "print(div_by_3)\n",
    "#save array using file name 'div_by_3'\n",
    "np.save('div_by_3', div_by_3)"
   ]
  },
  {
   "cell_type": "code",
   "execution_count": null,
   "id": "c602de75-eb8e-4507-8de4-c5e1586ee1f1",
   "metadata": {},
   "outputs": [],
   "source": []
  }
 ],
 "metadata": {
  "kernelspec": {
   "display_name": "Python 3 (ipykernel)",
   "language": "python",
   "name": "python3"
  },
  "language_info": {
   "codemirror_mode": {
    "name": "ipython",
    "version": 3
   },
   "file_extension": ".py",
   "mimetype": "text/x-python",
   "name": "python",
   "nbconvert_exporter": "python",
   "pygments_lexer": "ipython3",
   "version": "3.12.4"
  }
 },
 "nbformat": 4,
 "nbformat_minor": 5
}
